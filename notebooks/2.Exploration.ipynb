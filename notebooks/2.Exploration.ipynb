{
 "cells": [
  {
   "cell_type": "code",
   "execution_count": 6,
   "metadata": {},
   "outputs": [],
   "source": [
    "import pandas as pd\n",
    "horeca_item_similarity = pd.read_csv(\"../data/interim/horeca_item_similarity.csv\")\n",
    "retail_item_similarity = pd.read_csv(\"../data/interim/retail_item_similarity.csv\")\n",
    "horeca_user_item_affinity = pd.read_csv(\"../data/interim/horeca_user_item_affinity.csv\")\n",
    "retail_user_item_affinity = pd.read_csv(\"../data/interim/retail_user_item_affinity.csv\")\n",
    "\n"
   ]
  },
  {
   "cell_type": "code",
   "execution_count": 7,
   "metadata": {},
   "outputs": [
    {
     "data": {
      "text/html": [
       "<div>\n",
       "<style scoped>\n",
       "    .dataframe tbody tr th:only-of-type {\n",
       "        vertical-align: middle;\n",
       "    }\n",
       "\n",
       "    .dataframe tbody tr th {\n",
       "        vertical-align: top;\n",
       "    }\n",
       "\n",
       "    .dataframe thead th {\n",
       "        text-align: right;\n",
       "    }\n",
       "</style>\n",
       "<table border=\"1\" class=\"dataframe\">\n",
       "  <thead>\n",
       "    <tr style=\"text-align: right;\">\n",
       "      <th></th>\n",
       "      <th>Fresh</th>\n",
       "      <th>Milk</th>\n",
       "      <th>Grocery</th>\n",
       "      <th>Frozen</th>\n",
       "      <th>Detergents_Paper</th>\n",
       "      <th>Delicassen</th>\n",
       "    </tr>\n",
       "  </thead>\n",
       "  <tbody>\n",
       "    <tr>\n",
       "      <th>0</th>\n",
       "      <td>1.000000</td>\n",
       "      <td>0.246527</td>\n",
       "      <td>0.235661</td>\n",
       "      <td>0.335765</td>\n",
       "      <td>-0.007456</td>\n",
       "      <td>0.254530</td>\n",
       "    </tr>\n",
       "    <tr>\n",
       "      <th>1</th>\n",
       "      <td>0.246527</td>\n",
       "      <td>1.000000</td>\n",
       "      <td>0.602613</td>\n",
       "      <td>0.408877</td>\n",
       "      <td>0.249936</td>\n",
       "      <td>0.629643</td>\n",
       "    </tr>\n",
       "    <tr>\n",
       "      <th>2</th>\n",
       "      <td>0.235661</td>\n",
       "      <td>0.602613</td>\n",
       "      <td>1.000000</td>\n",
       "      <td>0.258679</td>\n",
       "      <td>0.548042</td>\n",
       "      <td>0.446873</td>\n",
       "    </tr>\n",
       "    <tr>\n",
       "      <th>3</th>\n",
       "      <td>0.335765</td>\n",
       "      <td>0.408877</td>\n",
       "      <td>0.258679</td>\n",
       "      <td>1.000000</td>\n",
       "      <td>-0.031201</td>\n",
       "      <td>0.428331</td>\n",
       "    </tr>\n",
       "    <tr>\n",
       "      <th>4</th>\n",
       "      <td>-0.007456</td>\n",
       "      <td>0.249936</td>\n",
       "      <td>0.548042</td>\n",
       "      <td>-0.031201</td>\n",
       "      <td>1.000000</td>\n",
       "      <td>0.077777</td>\n",
       "    </tr>\n",
       "    <tr>\n",
       "      <th>5</th>\n",
       "      <td>0.254530</td>\n",
       "      <td>0.629643</td>\n",
       "      <td>0.446873</td>\n",
       "      <td>0.428331</td>\n",
       "      <td>0.077777</td>\n",
       "      <td>1.000000</td>\n",
       "    </tr>\n",
       "  </tbody>\n",
       "</table>\n",
       "</div>"
      ],
      "text/plain": [
       "      Fresh      Milk   Grocery    Frozen  Detergents_Paper  Delicassen\n",
       "0  1.000000  0.246527  0.235661  0.335765         -0.007456    0.254530\n",
       "1  0.246527  1.000000  0.602613  0.408877          0.249936    0.629643\n",
       "2  0.235661  0.602613  1.000000  0.258679          0.548042    0.446873\n",
       "3  0.335765  0.408877  0.258679  1.000000         -0.031201    0.428331\n",
       "4 -0.007456  0.249936  0.548042 -0.031201          1.000000    0.077777\n",
       "5  0.254530  0.629643  0.446873  0.428331          0.077777    1.000000"
      ]
     },
     "execution_count": 7,
     "metadata": {},
     "output_type": "execute_result"
    }
   ],
   "source": [
    "horeca_item_similarity"
   ]
  },
  {
   "cell_type": "code",
   "execution_count": null,
   "metadata": {},
   "outputs": [],
   "source": []
  }
 ],
 "metadata": {
  "kernelspec": {
   "display_name": "commons",
   "language": "python",
   "name": "commons"
  },
  "language_info": {
   "codemirror_mode": {
    "name": "ipython",
    "version": 3
   },
   "file_extension": ".py",
   "mimetype": "text/x-python",
   "name": "python",
   "nbconvert_exporter": "python",
   "pygments_lexer": "ipython3",
   "version": "3.6.5"
  },
  "toc": {
   "base_numbering": 1,
   "nav_menu": {},
   "number_sections": true,
   "sideBar": true,
   "skip_h1_title": false,
   "title_cell": "Table of Contents",
   "title_sidebar": "Contents",
   "toc_cell": false,
   "toc_position": {},
   "toc_section_display": true,
   "toc_window_display": false
  }
 },
 "nbformat": 4,
 "nbformat_minor": 2
}
